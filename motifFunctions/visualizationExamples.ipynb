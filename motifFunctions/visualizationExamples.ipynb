{
 "cells": [
  {
   "cell_type": "code",
   "execution_count": 3,
   "id": "dd89eebb",
   "metadata": {},
   "outputs": [],
   "source": [
    "import decomposition\n",
    "import os\n",
    "import pandas as pd\n",
    "import numpy as np\n",
    "import matplotlib.pyplot as plt"
   ]
  },
  {
   "cell_type": "code",
   "execution_count": 4,
   "id": "fa6c144a",
   "metadata": {},
   "outputs": [],
   "source": [
    "motifFile = \"/home/jc/code/cattest.motif\"\n",
    "peakFile = \"/home/jc/code/peaks_categ1.csv\"\n",
    "genome = \"mm10\"\n",
    "outputDirectory = \"/home/jc/code/visTest/\""
   ]
  },
  {
   "cell_type": "code",
   "execution_count": 4,
   "id": "5ef2e74e",
   "metadata": {
    "collapsed": true
   },
   "outputs": [
    {
     "name": "stdout",
     "output_type": "stream",
     "text": [
      "annotatePeaks.pl /home/jc/code/peaks_categ1.csv mm10 -m /home/jc/code/cattest.motif-nmotifs > /home/jc/code/visTest/motifCount.txt\n"
     ]
    },
    {
     "name": "stderr",
     "output_type": "stream",
     "text": [
      "\n",
      "\tPeak file = /home/jc/code/peaks_categ1.csv\n",
      "\tGenome = mm10\n",
      "\tOrganism = mouse\n",
      "\tMotif files:\n",
      "\t\t/home/jc/code/cattest.motif\t-m\n",
      "\tWill report the number of motifs in each peak\n",
      "\tPeak/BED file conversion summary:\n",
      "\t\tBED/Header formatted lines: 0\n",
      "\t\tpeakfile formatted lines: 16093\n",
      "\t\tDuplicated Peak IDs: 0\n",
      "\n",
      "\tPeak File Statistics:\n",
      "\t\tTotal Peaks: 16093\n",
      "\t\tRedundant Peak IDs: 0\n",
      "\t\tPeaks lacking information: 0 (need at least 5 columns per peak)\n",
      "\t\tPeaks with misformatted coordinates: 0 (should be integer)\n",
      "\t\tPeaks with misformatted strand: 0 (should be either +/- or 0/1)\n",
      "\n",
      "\tPeak file looks good!\n",
      "\n",
      "\tExtracting Sequence...\n",
      "\tCustom genome sequence directory: /home/glasslab/HOMER/.//data/genomes/mm10/\n",
      "\n",
      "\tExtracting sequences from directory: /home/glasslab/HOMER/.//data/genomes/mm10/\n",
      "\tExtracting 1133 sequences from chr1\n",
      "\tExtracting 1416 sequences from chr2\n",
      "\tExtracting 702 sequences from chr3\n",
      "\tExtracting 1003 sequences from chr4\n",
      "\tExtracting 1003 sequences from chr5\n",
      "\tExtracting 841 sequences from chr6\n",
      "\tExtracting 1109 sequences from chr7\n",
      "\tExtracting 781 sequences from chr8\n",
      "\tExtracting 844 sequences from chr9\n",
      "\tExtracting 937 sequences from chr10\n",
      "\tExtracting 1444 sequences from chr11\n",
      "\tExtracting 584 sequences from chr12\n",
      "\tExtracting 720 sequences from chr13\n",
      "\tExtracting 601 sequences from chr14\n",
      "\tExtracting 709 sequences from chr15\n",
      "\tExtracting 576 sequences from chr16\n",
      "\tExtracting 730 sequences from chr17\n",
      "\tExtracting 396 sequences from chr18\n",
      "\tExtracting 429 sequences from chr19\n",
      "\tExtracting 124 sequences from chrX\n",
      "\tExtracting 5 sequences from chrY\n",
      "\tExtracting 1 sequences from chr4_GL456216_random\n",
      "\tExtracting 5 sequences from chrUn_JH584304\n",
      "\tReading Positions...\n",
      "\tCalculating CpG/GC Content of Peaks\n",
      "\n",
      "\tSequences processed:\n",
      "\t\tAuto detected maximum sequence length of 501 bp\n",
      "\t\t16093 total\n",
      "\n",
      "\t-----------------------\n",
      "\tLooking for Motifs...\n",
      "\n",
      "\tReading input files...\n",
      "\t16093 total sequences read\n",
      "\t209 motifs loaded\n",
      "\tFinding instances of 209 motif(s)\n",
      "\t|0%                                    50%                                  100%|\n",
      "\t=================================================================================\n",
      "\tFinding Closest TSS...\n",
      "\tAnnotating:.......................\n",
      "\t\tAnnotation\tNumber of peaks\tTotal size (bp)\tLog2 Ratio (obs/exp)\tLogP enrichment (+values depleted)\n",
      "\t\t3UTR\t226.0\t20759660\t0.881\t-37.882\n",
      "\t\tmiRNA\t0.0\t31126\t-0.244\t0.184\n",
      "\t\tncRNA\t35.0\t3444819\t0.781\t-6.224\n",
      "\t\tTTS\t279.0\t27313026\t0.789\t-38.340\n",
      "\t\tpseudo\t4.0\t548702\t0.302\t-0.898\n",
      "\t\tExon\t169.0\t34638742\t-0.277\t5.220\n",
      "\t\tIntron\t8277.0\t949839698\t0.559\t-924.015\n",
      "\t\tIntergenic\t5397.0\t1652327179\t-0.856\t2425.106\n",
      "\t\tPromoter\t1644.0\t30201318\t3.202\t-2258.037\n",
      "\t\t5UTR\t61.0\t2375227\t2.119\t-45.416\n",
      "\t\tsnoRNA\t0.0\t19\t-0.000\t0.000\n",
      "\t\trRNA\t1.0\t5631\t4.908\t-3.419\n",
      "\tNOTE: If this part takes more than 2 minutes, there is a good chance\n",
      "\t\tyour machine ran out of memory: consider hitting ctrl+C and rerunning\n",
      "\t\tthe command with \"-noann\"\n",
      "\tTo capture annotation stats in a file, use \"-annStats <filename>\" next time\n",
      "\tAnnotating:.......................\n",
      "\t\tAnnotation\tNumber of peaks\tTotal size (bp)\tLog2 Ratio (obs/exp)\tLogP enrichment (+values depleted)\n",
      "\t\t3UTR\t226.0\t20759660\t0.881\t-37.932\n",
      "\t\tOther\t9.0\t7949755\t-2.384\t24.979\n",
      "\t\tRC?\t0.0\t10979\t-0.091\t0.065\n",
      "\t\tRNA\t0.0\t113962\t-0.743\t0.674\n",
      "\t\tmiRNA\t0.0\t31126\t-0.244\t0.184\n",
      "\t\tncRNA\t35.0\t3444819\t0.782\t-6.231\n",
      "\t\tTTS\t279.0\t27313026\t0.789\t-38.397\n",
      "\t\tLINE\t766.0\t543499314\t-2.068\t1571.101\n",
      "\t\tLINE?\t0.0\t8168\t-0.068\t0.048\n",
      "\t\tsrpRNA\t1.0\t43307\t1.966\t-1.488\n",
      "\t\tSINE\t557.0\t196385695\t-1.059\t210.256\n",
      "\t\tRC\t0.0\t65629\t-0.473\t0.388\n",
      "\t\ttRNA\t8.0\t266421\t2.345\t-8.360\n",
      "\t\tDNA?\t0.0\t142070\t-0.880\t0.840\n",
      "\t\tpseudo\t4.0\t548702\t0.303\t-0.899\n",
      "\t\tDNA\t199.0\t28672218\t0.232\t-4.263\n",
      "\t\tExon\t169.0\t34638742\t-0.277\t5.202\n",
      "\t\tIntron\t6784.0\t602768002\t0.929\t-1607.471\n",
      "\t\tIntergenic\t4077.0\t822398691\t-0.254\t97.031\n",
      "\t\tPromoter\t1644.0\t30201318\t3.203\t-2258.735\n",
      "\t\t5UTR\t60.0\t2375227\t2.096\t-43.962\n",
      "\t\tsnoRNA\t0.0\t19\t-0.000\t0.000\n",
      "\t\tLTR?\t3.0\t192563\t1.398\t-2.231\n",
      "\t\tscRNA\t5.0\t602434\t0.490\t-1.252\n",
      "\t\tCpG-Island\t63.0\t3121814\t1.772\t-35.530\n",
      "\t\tLow_complexity\t188.0\t19384972\t0.714\t-22.462\n",
      "\t\tLTR\t905.0\t312904556\t-1.031\t331.951\n",
      "\t\tSimple_repeat\t93.0\t57516916\t-1.870\t131.204\n",
      "\t\tsnRNA\t7.0\t237223\t2.320\t-7.374\n",
      "\t\tUnknown\t8.0\t2405068\t-0.829\t2.887\n",
      "\t\tSINE?\t0.0\t29758\t-0.234\t0.176\n",
      "\t\tSatellite\t2.0\t4567569\t-3.755\t21.044\n",
      "\t\trRNA\t1.0\t166488\t0.023\t-0.468\n",
      "\tCounting Tags in Peaks from each directory...\n",
      "\tOrganism: mouse\n",
      "\tLoading Gene Informaiton...\n",
      "\tOutputing Annotation File...\n",
      "\tDone annotating peaks file\n",
      "\n"
     ]
    }
   ],
   "source": [
    "decomposition.getMotifCount(peakFile,genome,motifFile,outputDirectory)"
   ]
  },
  {
   "cell_type": "code",
   "execution_count": 49,
   "id": "dc05ee76",
   "metadata": {},
   "outputs": [
    {
     "data": {
      "image/png": "[encoded data removed]",
      "text/plain": [
       "<Figure size 576x432 with 1 Axes>"
      ]
     },
     "metadata": {
      "needs_background": "light"
     },
     "output_type": "display_data"
    }
   ],
   "source": [
    "COUNTS = pd.read_table('/home/jc/code/visTest/motifCounts.csv', sep='\\t', header=0, index_col=0)\n",
    "COUNTS_np = COUNTS.to_numpy()\n",
    "numOfMotifs = COUNTS_np.shape[0]\n",
    "\n",
    "fig, ax = plt.subplots(figsize=(8,6))\n",
    "ax.step(np.linspace(0,numOfMotifs,num=numOfMotifs),COUNTS_np.sum(axis=1))\n",
    "ax.set_ylabel('Number of Motifs')\n",
    "ax.set_xlabel('Motif #')\n",
    "\n",
    "plt.show()"
   ]
  },
  {
   "cell_type": "code",
   "execution_count": 4,
   "id": "c90ea5c9",
   "metadata": {
    "collapsed": true
   },
   "outputs": [
    {
     "name": "stdout",
     "output_type": "stream",
     "text": [
      "annotatePeaks.pl /home/jc/code/peaks_categ1.csv mm10 -m /home/jc/code/cattest.motif > /home/jc/code/visTest/motifLocations.txt\n"
     ]
    },
    {
     "name": "stderr",
     "output_type": "stream",
     "text": [
      "\n",
      "\tPeak file = /home/jc/code/peaks_categ1.csv\n",
      "\tGenome = mm10\n",
      "\tOrganism = mouse\n",
      "\tMotif files:\n",
      "\t\t/home/jc/code/cattest.motif\t-m\n",
      "\tPeak/BED file conversion summary:\n",
      "\t\tBED/Header formatted lines: 0\n",
      "\t\tpeakfile formatted lines: 16093\n",
      "\t\tDuplicated Peak IDs: 0\n",
      "\n",
      "\tPeak File Statistics:\n",
      "\t\tTotal Peaks: 16093\n",
      "\t\tRedundant Peak IDs: 0\n",
      "\t\tPeaks lacking information: 0 (need at least 5 columns per peak)\n",
      "\t\tPeaks with misformatted coordinates: 0 (should be integer)\n",
      "\t\tPeaks with misformatted strand: 0 (should be either +/- or 0/1)\n",
      "\n",
      "\tPeak file looks good!\n",
      "\n",
      "\tExtracting Sequence...\n",
      "\tCustom genome sequence directory: /home/glasslab/HOMER/.//data/genomes/mm10/\n",
      "\n",
      "\tExtracting sequences from directory: /home/glasslab/HOMER/.//data/genomes/mm10/\n",
      "\tExtracting 1133 sequences from chr1\n",
      "\tExtracting 1416 sequences from chr2\n",
      "\tExtracting 702 sequences from chr3\n",
      "\tExtracting 1003 sequences from chr4\n",
      "\tExtracting 1003 sequences from chr5\n",
      "\tExtracting 841 sequences from chr6\n",
      "\tExtracting 1109 sequences from chr7\n",
      "\tExtracting 781 sequences from chr8\n",
      "\tExtracting 844 sequences from chr9\n",
      "\tExtracting 937 sequences from chr10\n",
      "\tExtracting 1444 sequences from chr11\n",
      "\tExtracting 584 sequences from chr12\n",
      "\tExtracting 720 sequences from chr13\n",
      "\tExtracting 601 sequences from chr14\n",
      "\tExtracting 709 sequences from chr15\n",
      "\tExtracting 576 sequences from chr16\n",
      "\tExtracting 730 sequences from chr17\n",
      "\tExtracting 396 sequences from chr18\n",
      "\tExtracting 429 sequences from chr19\n",
      "\tExtracting 124 sequences from chrX\n",
      "\tExtracting 5 sequences from chrY\n",
      "\tExtracting 1 sequences from chr4_GL456216_random\n",
      "\tExtracting 5 sequences from chrUn_JH584304\n",
      "\tReading Positions...\n",
      "\tCalculating CpG/GC Content of Peaks\n",
      "\n",
      "\tSequences processed:\n",
      "\t\tAuto detected maximum sequence length of 501 bp\n",
      "\t\t16093 total\n",
      "\n",
      "\t-----------------------\n",
      "\tLooking for Motifs...\n",
      "\n",
      "\tReading input files...\n",
      "\t16093 total sequences read\n",
      "\t209 motifs loaded\n",
      "\tFinding instances of 209 motif(s)\n",
      "\t|0%                                    50%                                  100%|\n",
      "\t=================================================================================\n",
      "\tFinding Closest TSS...\n",
      "\tAnnotating:.......................\n",
      "\t\tAnnotation\tNumber of peaks\tTotal size (bp)\tLog2 Ratio (obs/exp)\tLogP enrichment (+values depleted)\n",
      "\t\t3UTR\t226.0\t20759660\t0.881\t-37.882\n",
      "\t\tmiRNA\t0.0\t31126\t-0.244\t0.184\n",
      "\t\tncRNA\t35.0\t3444819\t0.781\t-6.224\n",
      "\t\tTTS\t279.0\t27313026\t0.789\t-38.340\n",
      "\t\tpseudo\t4.0\t548702\t0.302\t-0.898\n",
      "\t\tExon\t169.0\t34638742\t-0.277\t5.220\n",
      "\t\tIntron\t8277.0\t949839698\t0.559\t-924.015\n",
      "\t\tIntergenic\t5397.0\t1652327179\t-0.856\t2425.106\n",
      "\t\tPromoter\t1644.0\t30201318\t3.202\t-2258.037\n",
      "\t\t5UTR\t61.0\t2375227\t2.119\t-45.416\n",
      "\t\tsnoRNA\t0.0\t19\t-0.000\t0.000\n",
      "\t\trRNA\t1.0\t5631\t4.908\t-3.419\n",
      "\tNOTE: If this part takes more than 2 minutes, there is a good chance\n",
      "\t\tyour machine ran out of memory: consider hitting ctrl+C and rerunning\n",
      "\t\tthe command with \"-noann\"\n",
      "\tTo capture annotation stats in a file, use \"-annStats <filename>\" next time\n",
      "\tAnnotating:.......................\n",
      "\t\tAnnotation\tNumber of peaks\tTotal size (bp)\tLog2 Ratio (obs/exp)\tLogP enrichment (+values depleted)\n",
      "\t\t3UTR\t226.0\t20759660\t0.881\t-37.932\n",
      "\t\tOther\t9.0\t7949755\t-2.384\t24.979\n",
      "\t\tRC?\t0.0\t10979\t-0.091\t0.065\n",
      "\t\tRNA\t0.0\t113962\t-0.743\t0.674\n",
      "\t\tmiRNA\t0.0\t31126\t-0.244\t0.184\n",
      "\t\tncRNA\t35.0\t3444819\t0.782\t-6.231\n",
      "\t\tTTS\t279.0\t27313026\t0.789\t-38.397\n",
      "\t\tLINE\t766.0\t543499314\t-2.068\t1571.101\n",
      "\t\tLINE?\t0.0\t8168\t-0.068\t0.048\n",
      "\t\tsrpRNA\t1.0\t43307\t1.966\t-1.488\n",
      "\t\tSINE\t557.0\t196385695\t-1.059\t210.256\n",
      "\t\tRC\t0.0\t65629\t-0.473\t0.388\n",
      "\t\ttRNA\t8.0\t266421\t2.345\t-8.360\n",
      "\t\tDNA?\t0.0\t142070\t-0.880\t0.840\n",
      "\t\tpseudo\t4.0\t548702\t0.303\t-0.899\n",
      "\t\tDNA\t199.0\t28672218\t0.232\t-4.263\n",
      "\t\tExon\t169.0\t34638742\t-0.277\t5.202\n",
      "\t\tIntron\t6784.0\t602768002\t0.929\t-1607.471\n",
      "\t\tIntergenic\t4077.0\t822398691\t-0.254\t97.031\n",
      "\t\tPromoter\t1644.0\t30201318\t3.203\t-2258.735\n",
      "\t\t5UTR\t60.0\t2375227\t2.096\t-43.962\n",
      "\t\tsnoRNA\t0.0\t19\t-0.000\t0.000\n",
      "\t\tLTR?\t3.0\t192563\t1.398\t-2.231\n",
      "\t\tscRNA\t5.0\t602434\t0.490\t-1.252\n",
      "\t\tCpG-Island\t63.0\t3121814\t1.772\t-35.530\n",
      "\t\tLow_complexity\t188.0\t19384972\t0.714\t-22.462\n",
      "\t\tLTR\t905.0\t312904556\t-1.031\t331.951\n",
      "\t\tSimple_repeat\t93.0\t57516916\t-1.870\t131.204\n",
      "\t\tsnRNA\t7.0\t237223\t2.320\t-7.374\n",
      "\t\tUnknown\t8.0\t2405068\t-0.829\t2.887\n",
      "\t\tSINE?\t0.0\t29758\t-0.234\t0.176\n",
      "\t\tSatellite\t2.0\t4567569\t-3.755\t21.044\n",
      "\t\trRNA\t1.0\t166488\t0.023\t-0.468\n",
      "\tCounting Tags in Peaks from each directory...\n",
      "\tOrganism: mouse\n",
      "\tLoading Gene Informaiton...\n",
      "\tOutputing Annotation File...\n",
      "\tDone annotating peaks file\n",
      "\n"
     ]
    },
    {
     "name": "stdout",
     "output_type": "stream",
     "text": [
      "Motif Coordinates of the peak file have been placed in /home/jc/code/visTest/motifCoordinates.csv\n"
     ]
    }
   ],
   "source": [
    "decomposition.getMotifLocation(peakFile,genome,motifFile,outputDirectory,(outputDirectory+'motifCounts.csv'))"
   ]
  },
  {
   "cell_type": "code",
   "execution_count": 5,
   "id": "a9aec2a0",
   "metadata": {
    "scrolled": false
   },
   "outputs": [
    {
     "data": {
      "image/png": "[encoded data removed]",
      "text/plain": [
       "<Figure size 576x432 with 1 Axes>"
      ]
     },
     "metadata": {
      "needs_background": "light"
     },
     "output_type": "display_data"
    }
   ],
   "source": [
    "COORDS = pd.read_table('/home/jc/code/visTest/motifCoordinates.csv', sep='\\t', header=0, index_col=0)\n",
    "FirstRowData = COORDS.iloc[0][COORDS.iloc[0] != -10000]\n",
    "\n",
    "fig, ax = plt.subplots(figsize=(8,6))\n",
    "ax.hist(FirstRowData, bins=500, density=False, alpha=0.5, color='steelblue', edgecolor='none')\n",
    "ax.set_xlabel('Distance From Peak \\n Motif:' + format(FirstRowData.name.split('/')[0:2]))\n",
    "ax.set_ylabel('Number of Peaks')\n",
    "\n",
    "plt.show()"
   ]
  },
  {
   "cell_type": "code",
   "execution_count": 6,
   "id": "72d4bb59",
   "metadata": {},
   "outputs": [
    {
     "data": {
      "image/png": "[encoded data removed]",
      "text/plain": [
       "<Figure size 576x432 with 1 Axes>"
      ]
     },
     "metadata": {
      "needs_background": "light"
     },
     "output_type": "display_data"
    }
   ],
   "source": [
    "SecondRowData = COORDS.iloc[1][COORDS.iloc[1] != -10000]\n",
    "\n",
    "fig2, ax2 = plt.subplots(figsize=(8,6))\n",
    "ax2.hist(SecondRowData, bins=500, density=False, alpha=0.5, color='steelblue', edgecolor='none')\n",
    "ax2.set_xlabel('Distance From Peak \\n Motif:' + format(SecondRowData.name.split('/')[0:2]))\n",
    "ax2.set_ylabel('Number of Peaks')\n",
    "\n",
    "plt.show()"
   ]
  },
  {
   "cell_type": "code",
   "execution_count": 4,
   "id": "bec61859",
   "metadata": {
    "collapsed": true
   },
   "outputs": [
    {
     "name": "stdout",
     "output_type": "stream",
     "text": [
      "annotatePeaks.pl /home/jc/code/peaks_categ1.csv mm10 -m /home/jc/code/cattest.motif > /home/jc/code/visTest/motifLocations.txt\n"
     ]
    },
    {
     "name": "stderr",
     "output_type": "stream",
     "text": [
      "\n",
      "\tPeak file = /home/jc/code/peaks_categ1.csv\n",
      "\tGenome = mm10\n",
      "\tOrganism = mouse\n",
      "\tMotif files:\n",
      "\t\t/home/jc/code/cattest.motif\t-m\n",
      "\tPeak/BED file conversion summary:\n",
      "\t\tBED/Header formatted lines: 0\n",
      "\t\tpeakfile formatted lines: 16093\n",
      "\t\tDuplicated Peak IDs: 0\n",
      "\n",
      "\tPeak File Statistics:\n",
      "\t\tTotal Peaks: 16093\n",
      "\t\tRedundant Peak IDs: 0\n",
      "\t\tPeaks lacking information: 0 (need at least 5 columns per peak)\n",
      "\t\tPeaks with misformatted coordinates: 0 (should be integer)\n",
      "\t\tPeaks with misformatted strand: 0 (should be either +/- or 0/1)\n",
      "\n",
      "\tPeak file looks good!\n",
      "\n",
      "\tExtracting Sequence...\n",
      "\tCustom genome sequence directory: /home/glasslab/HOMER/.//data/genomes/mm10/\n",
      "\n",
      "\tExtracting sequences from directory: /home/glasslab/HOMER/.//data/genomes/mm10/\n",
      "\tExtracting 1133 sequences from chr1\n",
      "\tExtracting 1416 sequences from chr2\n",
      "\tExtracting 702 sequences from chr3\n",
      "\tExtracting 1003 sequences from chr4\n",
      "\tExtracting 1003 sequences from chr5\n",
      "\tExtracting 841 sequences from chr6\n",
      "\tExtracting 1109 sequences from chr7\n",
      "\tExtracting 781 sequences from chr8\n",
      "\tExtracting 844 sequences from chr9\n",
      "\tExtracting 937 sequences from chr10\n",
      "\tExtracting 1444 sequences from chr11\n",
      "\tExtracting 584 sequences from chr12\n",
      "\tExtracting 720 sequences from chr13\n",
      "\tExtracting 601 sequences from chr14\n",
      "\tExtracting 709 sequences from chr15\n",
      "\tExtracting 576 sequences from chr16\n",
      "\tExtracting 730 sequences from chr17\n",
      "\tExtracting 396 sequences from chr18\n",
      "\tExtracting 429 sequences from chr19\n",
      "\tExtracting 124 sequences from chrX\n",
      "\tExtracting 5 sequences from chrY\n",
      "\tExtracting 1 sequences from chr4_GL456216_random\n",
      "\tExtracting 5 sequences from chrUn_JH584304\n",
      "\tReading Positions...\n",
      "\tCalculating CpG/GC Content of Peaks\n",
      "\n",
      "\tSequences processed:\n",
      "\t\tAuto detected maximum sequence length of 501 bp\n",
      "\t\t16093 total\n",
      "\n",
      "\t-----------------------\n",
      "\tLooking for Motifs...\n",
      "\n",
      "\tReading input files...\n",
      "\t16093 total sequences read\n",
      "\t209 motifs loaded\n",
      "\tFinding instances of 209 motif(s)\n",
      "\t|0%                                    50%                                  100%|\n",
      "\t=================================================================================\n",
      "\tFinding Closest TSS...\n",
      "\tAnnotating:.......................\n",
      "\t\tAnnotation\tNumber of peaks\tTotal size (bp)\tLog2 Ratio (obs/exp)\tLogP enrichment (+values depleted)\n",
      "\t\t3UTR\t226.0\t20759660\t0.881\t-37.882\n",
      "\t\tmiRNA\t0.0\t31126\t-0.244\t0.184\n",
      "\t\tncRNA\t35.0\t3444819\t0.781\t-6.224\n",
      "\t\tTTS\t279.0\t27313026\t0.789\t-38.340\n",
      "\t\tpseudo\t4.0\t548702\t0.302\t-0.898\n",
      "\t\tExon\t169.0\t34638742\t-0.277\t5.220\n",
      "\t\tIntron\t8277.0\t949839698\t0.559\t-924.015\n",
      "\t\tIntergenic\t5397.0\t1652327179\t-0.856\t2425.106\n",
      "\t\tPromoter\t1644.0\t30201318\t3.202\t-2258.037\n",
      "\t\t5UTR\t61.0\t2375227\t2.119\t-45.416\n",
      "\t\tsnoRNA\t0.0\t19\t-0.000\t0.000\n",
      "\t\trRNA\t1.0\t5631\t4.908\t-3.419\n",
      "\tNOTE: If this part takes more than 2 minutes, there is a good chance\n",
      "\t\tyour machine ran out of memory: consider hitting ctrl+C and rerunning\n",
      "\t\tthe command with \"-noann\"\n",
      "\tTo capture annotation stats in a file, use \"-annStats <filename>\" next time\n",
      "\tAnnotating:.......................\n",
      "\t\tAnnotation\tNumber of peaks\tTotal size (bp)\tLog2 Ratio (obs/exp)\tLogP enrichment (+values depleted)\n",
      "\t\t3UTR\t226.0\t20759660\t0.881\t-37.932\n",
      "\t\tOther\t9.0\t7949755\t-2.384\t24.979\n",
      "\t\tRC?\t0.0\t10979\t-0.091\t0.065\n",
      "\t\tRNA\t0.0\t113962\t-0.743\t0.674\n",
      "\t\tmiRNA\t0.0\t31126\t-0.244\t0.184\n",
      "\t\tncRNA\t35.0\t3444819\t0.782\t-6.231\n",
      "\t\tTTS\t279.0\t27313026\t0.789\t-38.397\n",
      "\t\tLINE\t766.0\t543499314\t-2.068\t1571.101\n",
      "\t\tLINE?\t0.0\t8168\t-0.068\t0.048\n",
      "\t\tsrpRNA\t1.0\t43307\t1.966\t-1.488\n",
      "\t\tSINE\t557.0\t196385695\t-1.059\t210.256\n",
      "\t\tRC\t0.0\t65629\t-0.473\t0.388\n",
      "\t\ttRNA\t8.0\t266421\t2.345\t-8.360\n",
      "\t\tDNA?\t0.0\t142070\t-0.880\t0.840\n",
      "\t\tpseudo\t4.0\t548702\t0.303\t-0.899\n",
      "\t\tDNA\t199.0\t28672218\t0.232\t-4.263\n",
      "\t\tExon\t169.0\t34638742\t-0.277\t5.202\n",
      "\t\tIntron\t6784.0\t602768002\t0.929\t-1607.471\n",
      "\t\tIntergenic\t4077.0\t822398691\t-0.254\t97.031\n",
      "\t\tPromoter\t1644.0\t30201318\t3.203\t-2258.735\n",
      "\t\t5UTR\t60.0\t2375227\t2.096\t-43.962\n",
      "\t\tsnoRNA\t0.0\t19\t-0.000\t0.000\n",
      "\t\tLTR?\t3.0\t192563\t1.398\t-2.231\n",
      "\t\tscRNA\t5.0\t602434\t0.490\t-1.252\n",
      "\t\tCpG-Island\t63.0\t3121814\t1.772\t-35.530\n",
      "\t\tLow_complexity\t188.0\t19384972\t0.714\t-22.462\n",
      "\t\tLTR\t905.0\t312904556\t-1.031\t331.951\n",
      "\t\tSimple_repeat\t93.0\t57516916\t-1.870\t131.204\n",
      "\t\tsnRNA\t7.0\t237223\t2.320\t-7.374\n",
      "\t\tUnknown\t8.0\t2405068\t-0.829\t2.887\n",
      "\t\tSINE?\t0.0\t29758\t-0.234\t0.176\n",
      "\t\tSatellite\t2.0\t4567569\t-3.755\t21.044\n",
      "\t\trRNA\t1.0\t166488\t0.023\t-0.468\n",
      "\tCounting Tags in Peaks from each directory...\n",
      "\tOrganism: mouse\n",
      "\tLoading Gene Informaiton...\n",
      "\tOutputing Annotation File...\n",
      "\tDone annotating peaks file\n",
      "\n"
     ]
    },
    {
     "name": "stdout",
     "output_type": "stream",
     "text": [
      "Motif Coordinates of the peak file have been placed in /home/jc/code/visTest/motifCoordinates.csv\n"
     ]
    }
   ],
   "source": [
    "decomposition.getMotifLocation(peakFile,genome,motifFile,outputDirectory,(outputDirectory+'motifCounts.csv'))"
   ]
  },
  {
   "cell_type": "code",
   "execution_count": 5,
   "id": "a9c82fdb",
   "metadata": {},
   "outputs": [
    {
     "name": "stdout",
     "output_type": "stream",
     "text": [
      "Coordinates Differences have been placed in /home/jc/code/visTest/coordinateDifference.csv\n"
     ]
    }
   ],
   "source": [
    "decomposition.getMotifCoordinateDifference((outputDirectory+'motifCoordinates.csv'),outputDirectory)"
   ]
  },
  {
   "cell_type": "code",
   "execution_count": null,
   "id": "4621b0ba",
   "metadata": {},
   "outputs": [],
   "source": [
    "motifDiff = pd.read_table(outputDirectory+'coordinateDifference.csv', sep='\\t', header=0, index_col=0)\n",
    "motifDiff"
   ]
  },
  {
   "cell_type": "code",
   "execution_count": 7,
   "id": "bf7caf7f",
   "metadata": {},
   "outputs": [
    {
     "ename": "NameError",
     "evalue": "name 'motifDiff' is not defined",
     "output_type": "error",
     "traceback": [
      "\u001b[0;31m---------------------------------------------------------------------------\u001b[0m",
      "\u001b[0;31mNameError\u001b[0m                                 Traceback (most recent call last)",
      "\u001b[0;32m/tmp/ipykernel_488420/3911689857.py\u001b[0m in \u001b[0;36m<module>\u001b[0;34m\u001b[0m\n\u001b[0;32m----> 1\u001b[0;31m \u001b[0mFirstRowData\u001b[0m \u001b[0;34m=\u001b[0m \u001b[0mmotifDiff\u001b[0m\u001b[0;34m.\u001b[0m\u001b[0miloc\u001b[0m\u001b[0;34m[\u001b[0m\u001b[0;36m0\u001b[0m\u001b[0;34m]\u001b[0m\u001b[0;34m[\u001b[0m\u001b[0mmotifDiff\u001b[0m\u001b[0;34m.\u001b[0m\u001b[0miloc\u001b[0m\u001b[0;34m[\u001b[0m\u001b[0;36m0\u001b[0m\u001b[0;34m]\u001b[0m \u001b[0;34m!=\u001b[0m \u001b[0;36m10000\u001b[0m\u001b[0;34m]\u001b[0m\u001b[0;34m\u001b[0m\u001b[0;34m\u001b[0m\u001b[0m\n\u001b[0m\u001b[1;32m      2\u001b[0m \u001b[0mfig\u001b[0m\u001b[0;34m,\u001b[0m \u001b[0max\u001b[0m \u001b[0;34m=\u001b[0m \u001b[0mplt\u001b[0m\u001b[0;34m.\u001b[0m\u001b[0msubplots\u001b[0m\u001b[0;34m(\u001b[0m\u001b[0mfigsize\u001b[0m\u001b[0;34m=\u001b[0m\u001b[0;34m(\u001b[0m\u001b[0;36m8\u001b[0m\u001b[0;34m,\u001b[0m\u001b[0;36m6\u001b[0m\u001b[0;34m)\u001b[0m\u001b[0;34m)\u001b[0m\u001b[0;34m\u001b[0m\u001b[0;34m\u001b[0m\u001b[0m\n\u001b[1;32m      3\u001b[0m \u001b[0max\u001b[0m\u001b[0;34m.\u001b[0m\u001b[0mhist\u001b[0m\u001b[0;34m(\u001b[0m\u001b[0mFirstRowData\u001b[0m\u001b[0;34m,\u001b[0m \u001b[0mbins\u001b[0m\u001b[0;34m=\u001b[0m\u001b[0;36m400\u001b[0m\u001b[0;34m,\u001b[0m \u001b[0mdensity\u001b[0m\u001b[0;34m=\u001b[0m\u001b[0;32mFalse\u001b[0m\u001b[0;34m,\u001b[0m \u001b[0malpha\u001b[0m\u001b[0;34m=\u001b[0m\u001b[0;36m0.5\u001b[0m\u001b[0;34m,\u001b[0m \u001b[0mcolor\u001b[0m\u001b[0;34m=\u001b[0m\u001b[0;34m'steelblue'\u001b[0m\u001b[0;34m,\u001b[0m \u001b[0medgecolor\u001b[0m\u001b[0;34m=\u001b[0m\u001b[0;34m'none'\u001b[0m\u001b[0;34m)\u001b[0m\u001b[0;34m\u001b[0m\u001b[0;34m\u001b[0m\u001b[0m\n\u001b[1;32m      4\u001b[0m \u001b[0max\u001b[0m\u001b[0;34m.\u001b[0m\u001b[0mset_xlabel\u001b[0m\u001b[0;34m(\u001b[0m\u001b[0;34m'Distance between Motif1 and Motif2'\u001b[0m\u001b[0;34m)\u001b[0m\u001b[0;34m\u001b[0m\u001b[0;34m\u001b[0m\u001b[0m\n\u001b[1;32m      5\u001b[0m \u001b[0max\u001b[0m\u001b[0;34m.\u001b[0m\u001b[0mset_ylabel\u001b[0m\u001b[0;34m(\u001b[0m\u001b[0;34m'Number of Peaks'\u001b[0m\u001b[0;34m)\u001b[0m\u001b[0;34m\u001b[0m\u001b[0;34m\u001b[0m\u001b[0m\n",
      "\u001b[0;31mNameError\u001b[0m: name 'motifDiff' is not defined"
     ]
    }
   ],
   "source": [
    "FirstRowData = motifDiff.iloc[0][motifDiff.iloc[0] != 10000]\n",
    "fig, ax = plt.subplots(figsize=(8,6))\n",
    "ax.hist(FirstRowData, bins=400, density=False, alpha=0.5, color='steelblue', edgecolor='none')\n",
    "ax.set_xlabel('Distance between Motif1 and Motif2')\n",
    "ax.set_ylabel('Number of Peaks')\n",
    "\n",
    "plt.show()"
   ]
  },
  {
   "cell_type": "code",
   "execution_count": 18,
   "id": "0d7e2f06",
   "metadata": {},
   "outputs": [
    {
     "data": {
      "image/png": "[encoded data removed]",
      "text/plain": [
       "<Figure size 576x432 with 1 Axes>"
      ]
     },
     "metadata": {
      "needs_background": "light"
     },
     "output_type": "display_data"
    }
   ],
   "source": [
    "SecondRowData = motifDiff.iloc[208][motifDiff.iloc[208] != 10000]\n",
    "fig2, ax2 = plt.subplots(figsize=(8,6))\n",
    "ax2.hist(SecondRowData, bins=400, density=False, alpha=0.5, color='steelblue', edgecolor='none')\n",
    "ax2.set_xlabel('Distance between Motif2 and Motif3')\n",
    "ax2.set_ylabel('Number of Peaks')\n",
    "\n",
    "plt.show()"
   ]
  },
  {
   "cell_type": "code",
   "execution_count": null,
   "id": "54d55dfe",
   "metadata": {},
   "outputs": [],
   "source": []
  }
 ],
 "metadata": {
  "kernelspec": {
   "display_name": "Python 3 (ipykernel)",
   "language": "python",
   "name": "python3"
  },
  "language_info": {
   "codemirror_mode": {
    "name": "ipython",
    "version": 3
   },
   "file_extension": ".py",
   "mimetype": "text/x-python",
   "name": "python",
   "nbconvert_exporter": "python",
   "pygments_lexer": "ipython3",
   "version": "3.9.7"
  }
 },
 "nbformat": 4,
 "nbformat_minor": 5
}
